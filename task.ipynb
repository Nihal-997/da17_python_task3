{
 "cells": [
  {
   "cell_type": "markdown",
   "id": "f1994bd4",
   "metadata": {},
   "source": [
    "# and/or with int"
   ]
  },
  {
   "cell_type": "code",
   "execution_count": 3,
   "id": "5504007d",
   "metadata": {},
   "outputs": [
    {
     "name": "stdout",
     "output_type": "stream",
     "text": [
      "statement is correct\n",
      "statement is incorrect\n"
     ]
    }
   ],
   "source": [
    "a= 5\n",
    "b= 2\n",
    "if a+b > 4 and a+b < 9:\n",
    "    print('statement is correct')\n",
    "else:\n",
    "    print('statement is incorrect')\n",
    "\n",
    "\n",
    "if a+b > 10 or a+b < 3:\n",
    "    print('statement is correct')\n",
    "else:\n",
    "    print('statement is incorrect')"
   ]
  },
  {
   "cell_type": "markdown",
   "id": "e36234f5",
   "metadata": {},
   "source": [
    "# and/or with str"
   ]
  },
  {
   "cell_type": "code",
   "execution_count": 9,
   "id": "3c4b288a",
   "metadata": {},
   "outputs": [
    {
     "name": "stdout",
     "output_type": "stream",
     "text": [
      "Welcome to Wonderland, Alice!\n",
      "Neither the name is Alice nor the city is Wonderland\n"
     ]
    }
   ],
   "source": [
    "name = \"Alice\"\n",
    "city = \"Wonderland\"\n",
    "\n",
    "if name == \"Alice\" and city == \"Wonderland\":\n",
    "    print(\"Welcome to Wonderland, Alice!\")\n",
    "else:\n",
    "    print(\"You are not Alice from Wonderland\")\n",
    "\n",
    "if name == \"Nihal\" or city == \"Nagpur\":\n",
    "    print(\"Either the name is Alice or the city is Wonderland\")\n",
    "else:\n",
    "    print(\"Neither the name is Alice nor the city is Wonderland\")"
   ]
  },
  {
   "cell_type": "markdown",
   "id": "a902ad30",
   "metadata": {},
   "source": [
    "# and/or with list"
   ]
  },
  {
   "cell_type": "code",
   "execution_count": 12,
   "id": "c92200f3",
   "metadata": {},
   "outputs": [
    {
     "name": "stdout",
     "output_type": "stream",
     "text": [
      "both 2 and 3 in list\n",
      "not in list\n"
     ]
    }
   ],
   "source": [
    "l1 = [1, 2, 3, 4, 5]\n",
    "\n",
    "if 2 in l1 and 3 in l1:\n",
    "    print('both 2 and 3 in list')\n",
    "else:\n",
    "    print('not in list')\n",
    "\n",
    "if 6 in l1 or 9 in l1:\n",
    "    print('6 or 2 in list')\n",
    "else:\n",
    "    print('not in list')"
   ]
  },
  {
   "cell_type": "markdown",
   "id": "3e503891",
   "metadata": {},
   "source": [
    "## list len "
   ]
  },
  {
   "cell_type": "code",
   "execution_count": 17,
   "id": "7cae668c",
   "metadata": {},
   "outputs": [
    {
     "name": "stdout",
     "output_type": "stream",
     "text": [
      "statement is correct\n",
      "satement is incorrct\n"
     ]
    }
   ],
   "source": [
    "l1 = [1, 2, 3, 4, 5]\n",
    "\n",
    "if type(\"test\") == str and len(l1) == 5:\n",
    "    print(\"statement is correct\")\n",
    "else:\n",
    "    print(\"statement is incorrect\")\n",
    "\n",
    "if type(123) == str or len(l1) == 7:\n",
    "    print(\"statement is correct\")\n",
    "else:\n",
    "    print(\"satement is incorrct\")"
   ]
  },
  {
   "cell_type": "markdown",
   "id": "dfe530e9",
   "metadata": {},
   "source": [
    "## list append"
   ]
  },
  {
   "cell_type": "code",
   "execution_count": 34,
   "id": "d3fe50cb",
   "metadata": {},
   "outputs": [
    {
     "name": "stdout",
     "output_type": "stream",
     "text": [
      "8 was added to the list\n",
      "10 was not in list\n"
     ]
    }
   ],
   "source": [
    "numbers = [1,2,3,4,5,6,7]\n",
    "\n",
    "if len(numbers) < 10 and 8 not in numbers:\n",
    "   numbers.append(8)\n",
    "   print(\"8 was added to the list\")\n",
    "else:\n",
    "   print(\"8 was not in list\")\n",
    "\n",
    "if len(numbers) < 5 or 10 in numbers:\n",
    "   numbers.append(10)\n",
    "   print(\"10 was added in list\")\n",
    "else:\n",
    "   print(\"10 was not in list\")\n"
   ]
  },
  {
   "cell_type": "markdown",
   "id": "8b04ca48",
   "metadata": {},
   "source": [
    "## list extend"
   ]
  },
  {
   "cell_type": "code",
   "execution_count": 48,
   "id": "ab17109c",
   "metadata": {},
   "outputs": [
    {
     "name": "stdout",
     "output_type": "stream",
     "text": [
      "l1 is not empty\n",
      "[1, 2, 3, 4, 5]\n",
      "l1 is not empty\n",
      "[1, 2, 3, 4, 5, 0]\n"
     ]
    }
   ],
   "source": [
    "l1 = [1, 2, 3, 4, 5]\n",
    "l2 =[]\n",
    "l1.extend(l2 and [6,7,8])\n",
    "if l1:\n",
    "    print(\"l1 is not empty\")\n",
    "else:\n",
    "    print(\"l1 is empyty\")\n",
    "\n",
    "print(l1)\n",
    "\n",
    "l1.extend(l2 or [0])\n",
    "if l1:\n",
    "    print(\"l1 is not empty\")\n",
    "else:\n",
    "    print(\"l1 is empty\")\n",
    "\n",
    "print(l1)"
   ]
  },
  {
   "cell_type": "markdown",
   "id": "86e53dce",
   "metadata": {},
   "source": [
    "## list pop"
   ]
  },
  {
   "cell_type": "code",
   "execution_count": 60,
   "id": "856243e5",
   "metadata": {},
   "outputs": [
    {
     "name": "stdout",
     "output_type": "stream",
     "text": [
      "fruit not removed\n",
      "fruit removed\n"
     ]
    }
   ],
   "source": [
    "fruits = [\"apple\", \"banana\", \"cherry\"]\n",
    "\n",
    "if fruits and fruits[-3] == \"cherry\":\n",
    "    fruits.pop()\n",
    "    print(\"fruit removed\")\n",
    "else:\n",
    "    print(\"fruit not removed\")\n",
    "\n",
    "if fruits or fruits[1] == \"banana\":\n",
    "    fruits.pop(1)\n",
    "    print(\"fruit removed\")\n",
    "else:\n",
    "    print(\"fruit not removed\")  "
   ]
  },
  {
   "cell_type": "markdown",
   "id": "d315e88b",
   "metadata": {},
   "source": [
    "## list remove"
   ]
  },
  {
   "cell_type": "code",
   "execution_count": 61,
   "id": "64b5b03c",
   "metadata": {},
   "outputs": [
    {
     "name": "stdout",
     "output_type": "stream",
     "text": [
      "Item not removed from colors\n",
      "Item removed from colors\n"
     ]
    }
   ],
   "source": [
    "colors = [\"red\", \"blue\", \"green\"]\n",
    "\n",
    "item_to_remove = \"yellow\"\n",
    "\n",
    "if item_to_remove in colors and \"green\" in colors:\n",
    "    colors.remove(item_to_remove if item_to_remove in colors else \"green\")\n",
    "    print(\"Item removed from colors\")\n",
    "else:\n",
    "    print(\"Item not removed from colors\")\n",
    "\n",
    "if item_to_remove in colors or \"blue\" in colors:\n",
    "    colors.remove(item_to_remove if item_to_remove in colors else \"blue\")\n",
    "    print(\"Item removed from colors\")\n",
    "else:\n",
    "    print(\"Item not removed from colors\")\n"
   ]
  },
  {
   "cell_type": "markdown",
   "id": "5ce30ee0",
   "metadata": {},
   "source": [
    "## list index"
   ]
  },
  {
   "cell_type": "code",
   "execution_count": 62,
   "id": "cfb194be",
   "metadata": {},
   "outputs": [
    {
     "name": "stdout",
     "output_type": "stream",
     "text": [
      "'b' is at index 1\n",
      "'d' is not in letters or 'c' is at index 2\n"
     ]
    }
   ],
   "source": [
    "letters = [\"a\", \"b\", \"c\"]\n",
    "if \"b\" in letters and letters.index(\"b\") == 1:\n",
    "    print(\"'b' is at index 1\")\n",
    "else:\n",
    "    print(\"'b' is not at index 1\")\n",
    "\n",
    "if \"d\" in letters or letters.index(\"c\") == 2:\n",
    "    print(\"'d' is not in letters or 'c' is at index 2\")\n",
    "else:\n",
    "    print(\"'d' is not in letters and 'c' is not at index 2\")"
   ]
  },
  {
   "cell_type": "markdown",
   "id": "2f7a83da",
   "metadata": {},
   "source": [
    "## list insert"
   ]
  },
  {
   "cell_type": "code",
   "execution_count": 66,
   "id": "46de9faf",
   "metadata": {},
   "outputs": [
    {
     "name": "stdout",
     "output_type": "stream",
     "text": [
      "light add in list\n",
      "['light', 'sky', 'blue']\n",
      "Red not add in list\n",
      "['light', 'sky', 'blue']\n"
     ]
    }
   ],
   "source": [
    "words = [\"sky\", \"blue\"]\n",
    "\n",
    "if \"blue\" in words and \"light\" not in words:\n",
    "    words.insert(0, \"light\")\n",
    "    print(\"light add in list\")\n",
    "\n",
    "else:\n",
    "  \n",
    "    print(\"light not add in list\")\n",
    "\n",
    "print(words)\n",
    "\n",
    "if \"cloud\" in words or \"Red\"  in words:\n",
    "    words.insert(0, \"Red\")\n",
    "    print(\"Red add in list\")\n",
    "\n",
    "else:\n",
    "   \n",
    "    print(\"Red not add in list\")\n",
    "\n",
    "print(words)\n"
   ]
  },
  {
   "cell_type": "markdown",
   "id": "10cd315c",
   "metadata": {},
   "source": [
    "## list reverse sort"
   ]
  },
  {
   "cell_type": "code",
   "execution_count": 68,
   "id": "b14914a9",
   "metadata": {},
   "outputs": [
    {
     "name": "stdout",
     "output_type": "stream",
     "text": [
      "Numbers sorted in ascending order\n",
      "[1, 2, 3, 4, 5, 6, 7, 8, 9, 10]\n",
      "Numbers sorted in descending order\n",
      "[10, 9, 8, 7, 6, 5, 4, 3, 2, 1]\n"
     ]
    }
   ],
   "source": [
    "numbers = [10,9,8,7,6,5,4,3,2,1]\n",
    "\n",
    "if numbers != sorted(numbers) and numbers == sorted(numbers, reverse=True):\n",
    "    numbers.sort()\n",
    "    print(\"Numbers sorted in ascending order\")\n",
    "else:\n",
    "    print(\"Numbers are not sorted in ascending order\")\n",
    "\n",
    "print(numbers)\n",
    "\n",
    "if numbers == sorted(numbers) or numbers != sorted(numbers, reverse=True):\n",
    "    numbers.sort(reverse=True)\n",
    "    print(\"Numbers sorted in descending order\") \n",
    "else:\n",
    "    print(\"Numbers are not sorted in descending order\")\n",
    "\n",
    "print(numbers)"
   ]
  },
  {
   "cell_type": "markdown",
   "id": "62a04d7a",
   "metadata": {},
   "source": [
    "## list clear"
   ]
  },
  {
   "cell_type": "code",
   "execution_count": 86,
   "id": "449567a7",
   "metadata": {},
   "outputs": [
    {
     "name": "stdout",
     "output_type": "stream",
     "text": [
      "List cleared\n",
      "[]\n",
      "List cleared\n",
      "[]\n"
     ]
    }
   ],
   "source": [
    "numbers =[1,2,3,4,5,6,7,8,9,10]\n",
    "\n",
    "if len(numbers) > 2 and \"12\" not in numbers:\n",
    "    numbers.clear()\n",
    "    print(\"List cleared\")\n",
    "else:\n",
    "    print(\"List not cleared\")\n",
    "\n",
    "print(numbers)\n",
    "\n",
    "if len(numbers) < 5 or \"10\" in numbers:\n",
    "    numbers.clear()\n",
    "    print(\"List cleared\")   \n",
    "else:\n",
    "    print(\"List not cleared\")\n",
    "\n",
    "print(numbers)"
   ]
  },
  {
   "cell_type": "markdown",
   "id": "957d3cc2",
   "metadata": {},
   "source": [
    "## list copy"
   ]
  },
  {
   "cell_type": "code",
   "execution_count": 88,
   "id": "8012bb87",
   "metadata": {},
   "outputs": [
    {
     "name": "stdout",
     "output_type": "stream",
     "text": [
      "Active list is empty\n",
      "[]\n",
      "Active list updated\n",
      "[9, 8, 7]\n"
     ]
    }
   ],
   "source": [
    "original = [9, 8, 7]\n",
    "backup = []\n",
    "active = original.copy() if original and backup else[]\n",
    "if active:\n",
    "    print(\"Active list is not empty\")\n",
    "else:\n",
    "    print(\"Active list is empty\")\n",
    "print(active)\n",
    "\n",
    "if not original or not backup:\n",
    "    active = original.copy() if original else[]\n",
    "    print(\"Active list updated\")\n",
    "else:\n",
    "    active = backup.copy() if backup else[]\n",
    "    print(\"Active list not updated\")\n",
    "print(active)\n"
   ]
  },
  {
   "cell_type": "markdown",
   "id": "53008a38",
   "metadata": {},
   "source": [
    "# and/or with dict"
   ]
  },
  {
   "cell_type": "code",
   "execution_count": 89,
   "id": "1d7df8a7",
   "metadata": {},
   "outputs": [
    {
     "name": "stdout",
     "output_type": "stream",
     "text": [
      "{}\n",
      "{'user': 'Alice', 'logged_in': True}\n",
      "User is logged in\n",
      "No admin access and user is logged in\n"
     ]
    }
   ],
   "source": [
    "data = {\"user\": \"Alice\", \"logged_in\": True}\n",
    "empty_dict = {}\n",
    "\n",
    "print(data and empty_dict)  \n",
    "print(data or empty_dict)   \n",
    "if \"user\" in data and data.get(\"logged_in\"):\n",
    "    print(\"User is logged in\")\n",
    "else:\n",
    "    print(\"User is not logged in\")\n",
    "\n",
    "if \"admin\" in data or not data.get(\"logged_in\"):\n",
    "    print(\"Admin access or user not logged in\")\n",
    "else:\n",
    "    print(\"No admin access and user is logged in\")\n",
    "\n"
   ]
  },
  {
   "cell_type": "markdown",
   "id": "77cc4dec",
   "metadata": {},
   "source": [
    "## dict get"
   ]
  },
  {
   "cell_type": "code",
   "execution_count": 95,
   "id": "878fe5f3",
   "metadata": {},
   "outputs": [
    {
     "name": "stdout",
     "output_type": "stream",
     "text": [
      "Nickname not found\n",
      "Nickname found: sonu\n"
     ]
    }
   ],
   "source": [
    "person = {\"name\": \"Ravi\"}\n",
    "\n",
    "nickname = person.get(\"nickname\") and \"No nickname\"\n",
    "if nickname is None:\n",
    "    print(\"Nickname not found\")\n",
    "else:\n",
    "    print(\"Nickname found:\", nickname)\n",
    "\n",
    "nickname = person.get(\"nickname\") or \"No nickname\"\n",
    "if nickname == \"sonu\":\n",
    "    print(\"Nickname not found\")\n",
    "else:\n",
    "    print(\"Nickname found:\", \"sonu\")\n"
   ]
  },
  {
   "cell_type": "markdown",
   "id": "1a79ff00",
   "metadata": {},
   "source": [
    "## dict update"
   ]
  },
  {
   "cell_type": "code",
   "execution_count": null,
   "id": "c599b799",
   "metadata": {},
   "outputs": [
    {
     "name": "stdout",
     "output_type": "stream",
     "text": [
      "Data updated: {'id': 1, 'age': 25}\n",
      "Data updated: {'id': 1, 'age': 25}\n"
     ]
    }
   ],
   "source": [
    "data = {\"id\": 1}\n",
    "new_data = {\"age\": 25}\n",
    "\n",
    "if isinstance(new_data, dict) and new_data:\n",
    "    data.update(new_data)\n",
    "    print(\"Data updated:\", data)\n",
    "else:\n",
    "    print(\"New data is empty\")     \n",
    "\n",
    "if isinstance(new_data, dict) or  new_data:\n",
    "    data.update(new_data)\n",
    "    print(\"Data updated:\", data)\n",
    "else:\n",
    "    print(\"New data is is empty\")"
   ]
  },
  {
   "cell_type": "markdown",
   "id": "0411dd09",
   "metadata": {},
   "source": [
    "## dict keys/values"
   ]
  },
  {
   "cell_type": "code",
   "execution_count": 98,
   "id": "fb1e52fd",
   "metadata": {},
   "outputs": [
    {
     "name": "stdout",
     "output_type": "stream",
     "text": [
      "Laptop info is complete.\n",
      "Laptop info is partially complete.\n"
     ]
    }
   ],
   "source": [
    "info = {\"brand\": \"Dell\", \"model\": \"XPS\"}\n",
    "\n",
    "if \"brand\" in info.keys() and \"model\" in info:\n",
    "    print(\"Laptop info is complete.\")\n",
    "else:\n",
    "    print(\"Laptop info is incomplete.\")\n",
    "\n",
    "if \"brand\" in info.keys() or \"model\" in info:\n",
    "    print(\"Laptop info is partially complete.\")\n",
    "else:\n",
    "    print(\"Laptop info is not complete.\")"
   ]
  },
  {
   "cell_type": "markdown",
   "id": "669c1325",
   "metadata": {},
   "source": [
    "## dict pop"
   ]
  },
  {
   "cell_type": "code",
   "execution_count": 116,
   "id": "84628025",
   "metadata": {},
   "outputs": [
    {
     "name": "stdout",
     "output_type": "stream",
     "text": [
      "Item not removed from book\n",
      "Item removed from book\n"
     ]
    }
   ],
   "source": [
    "book = {\"title\": \"1984\", \"author\": \"Orwell\"}\n",
    "to_remove = \"publisher\"\n",
    "\n",
    "if to_remove in book and \"author\" in book:\n",
    "    book.pop(to_remove, None)\n",
    "    book.pop(\"author\", None)\n",
    "    print(\"Item removed from book\")\n",
    "else:\n",
    "    print(\"Item not removed from book\")\n",
    "if to_remove in book or \"title\" in book:\n",
    "    book.pop(to_remove, None)\n",
    "    print(\"Item removed from book\")\n",
    "else:\n",
    "    print(\"Item not removed from book\")"
   ]
  },
  {
   "cell_type": "markdown",
   "id": "d8525d7e",
   "metadata": {},
   "source": [
    "## dict setdefault"
   ]
  },
  {
   "cell_type": "code",
   "execution_count": 117,
   "id": "9091caa8",
   "metadata": {},
   "outputs": [
    {
     "name": "stdout",
     "output_type": "stream",
     "text": [
      "Theme is set to dark\n",
      "dark\n",
      "Theme is set to light\n",
      "light\n"
     ]
    }
   ],
   "source": [
    "settings = {}\n",
    "\n",
    "theme = settings.setdefault(\"theme\", \"light\") and \"dark\"\n",
    "if theme == \"light\":\n",
    "    print(\"Theme is set to light\")\n",
    "else:\n",
    "    print(\"Theme is set to dark\")\n",
    "\n",
    "print(theme)\n",
    "\n",
    "theme = settings.setdefault(\"theme\", \"light\") or \"dark\"\n",
    "if theme == \"light\":\n",
    "    print(\"Theme is set to light\")  \n",
    "else:\n",
    "    print(\"Theme is set to dark\")\n",
    "\n",
    "print(theme) "
   ]
  },
  {
   "cell_type": "markdown",
   "id": "89022f6d",
   "metadata": {},
   "source": [
    "## dict items"
   ]
  },
  {
   "cell_type": "code",
   "execution_count": null,
   "id": "50d3f97a",
   "metadata": {},
   "outputs": [
    {
     "name": "stdout",
     "output_type": "stream",
     "text": [
      "User does not have admin access\n",
      "User is Anya or has admin access\n"
     ]
    }
   ],
   "source": [
    "user = {\"name\": \"Anya\", \"admin\": True}\n",
    "\n",
    "if user and any(k == \"admin\" and v is False for k, v in user.items()):\n",
    "    print(\"User has admin access\")\n",
    "else:\n",
    "    print(\"User does not have admin access\")\n",
    "\n",
    "if user or all(k == \"admin\" and v is False for k, v in user.items()):\n",
    "    print(\"User is Anya or has admin access\")\n",
    "else:\n",
    "    print(\"User is not Anya and does not have admin access\")\n"
   ]
  },
  {
   "cell_type": "markdown",
   "id": "56aad8c2",
   "metadata": {},
   "source": [
    "## dict clear"
   ]
  },
  {
   "cell_type": "code",
   "execution_count": 141,
   "id": "43d99f4e",
   "metadata": {},
   "outputs": [
    {
     "name": "stdout",
     "output_type": "stream",
     "text": [
      "Logs cleared\n",
      "{}\n",
      "Logs cleared\n",
      "{}\n"
     ]
    }
   ],
   "source": [
    "logs = {\"success\": True, \"errors\": []}\n",
    "\n",
    "if \"errors\" in logs and logs[\"success\"]:\n",
    "    logs.clear()\n",
    "    print(\"Logs cleared\")\n",
    "else:\n",
    "    print(\"Logs not cleared\")\n",
    "\n",
    "print(logs)\n",
    "\n",
    "\n",
    "if \"errors\" in logs or not logs.get(\"print\"):\n",
    "    logs.clear()\n",
    "    print(\"Logs cleared\")\n",
    "else:\n",
    "    print(\"Logs not cleared\")\n",
    "\n",
    "print(logs)  "
   ]
  },
  {
   "cell_type": "markdown",
   "id": "046add73",
   "metadata": {},
   "source": [
    "## dict copy"
   ]
  },
  {
   "cell_type": "code",
   "execution_count": 142,
   "id": "93229ede",
   "metadata": {},
   "outputs": [
    {
     "name": "stdout",
     "output_type": "stream",
     "text": [
      "User is active\n",
      "{'active': True}\n",
      "User is active or backup exists\n",
      "{'active': False}\n"
     ]
    }
   ],
   "source": [
    "user = {\"active\": True}\n",
    "backup = user.copy() and {\"active\": False}\n",
    "if user and backup:\n",
    "    print(\"User is active\") \n",
    "else:\n",
    "    print(\"User is not active\")\n",
    "\n",
    "print(user)\n",
    "\n",
    "if user or backup:\n",
    "    print(\"User is active or backup exists\")\n",
    "else:\n",
    "    print(\"User is not active and no backup exists\")\n",
    "\n",
    "print(backup) "
   ]
  }
 ],
 "metadata": {
  "kernelspec": {
   "display_name": "Python 3",
   "language": "python",
   "name": "python3"
  },
  "language_info": {
   "codemirror_mode": {
    "name": "ipython",
    "version": 3
   },
   "file_extension": ".py",
   "mimetype": "text/x-python",
   "name": "python",
   "nbconvert_exporter": "python",
   "pygments_lexer": "ipython3",
   "version": "3.9.12"
  }
 },
 "nbformat": 4,
 "nbformat_minor": 5
}
